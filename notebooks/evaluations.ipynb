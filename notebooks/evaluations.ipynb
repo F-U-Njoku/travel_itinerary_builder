{
 "cells": [
  {
   "cell_type": "code",
   "execution_count": null,
   "id": "c259f0fe-e313-4bdd-b70c-c2c6e09b8c3c",
   "metadata": {},
   "outputs": [],
   "source": [
    "import pickle"
   ]
  },
  {
   "cell_type": "code",
   "execution_count": null,
   "id": "ba27a280-97b8-41a6-9190-fa267624acb6",
   "metadata": {},
   "outputs": [],
   "source": [
    "from rag import gpt, build_prompt\n",
    "from retrieval import elastic_search, elastic__vector_search, fais__vector_search"
   ]
  },
  {
   "cell_type": "markdown",
   "id": "5ce56085-7e0e-4a7f-92b6-4b8f30bac710",
   "metadata": {},
   "source": [
    "### User input"
   ]
  },
  {
   "cell_type": "code",
   "execution_count": null,
   "id": "a7df3350-5d7a-4df6-9a39-0d2359cd048f",
   "metadata": {},
   "outputs": [],
   "source": [
    "# Define the month in the dropdown\n",
    "month_dropdown = widgets.Dropdown(\n",
    "    options=[\"January\", \"February\", \"March\", \"April\", \"May\", \"June\", \n",
    "             \"July\", \"August\", \"September\", \"October\", \"November\", \"December\"],\n",
    "    value='January',  # Default value\n",
    "    description='Month:',\n",
    ")\n",
    "\n",
    "# Display the dropdown widget\n",
    "display(month_dropdown)\n",
    "\n",
    "# Function to handle the value change and store the result in a variable\n",
    "def on_value_change(change):\n",
    "    selected_option = change['new']  # Save the selected option to a variable\n",
    "    print(f\"Selected option: {selected_option}\")\n",
    "\n",
    "# Observe value change in the dropdown\n",
    "month_dropdown.observe(on_value_change, names='value')\n"
   ]
  },
  {
   "cell_type": "code",
   "execution_count": null,
   "id": "d7f4e022-24ea-4f39-9ad0-5a32c3fd28a2",
   "metadata": {},
   "outputs": [],
   "source": [
    "# To directly access the selected value, you can also just do:\n",
    "month = month_dropdown.value\n",
    "month"
   ]
  },
  {
   "cell_type": "code",
   "execution_count": null,
   "id": "781194c8-286a-4c55-9d5f-4583b7de668a",
   "metadata": {},
   "outputs": [],
   "source": [
    "# Define the duration in the dropdown\n",
    "days_dropdown = widgets.Dropdown(\n",
    "    options=[\"One\", \"Two\", \"Three\", \"Four\", \"Five\", \"Six\", \"Seven\"],\n",
    "    value='One',  # Default value\n",
    "    description='Duration:',\n",
    ")\n",
    "\n",
    "# Display the dropdown widget\n",
    "display(days_dropdown)\n",
    "\n",
    "# Function to handle the value change and store the result in a variable\n",
    "def on_value_change(change):\n",
    "    selected_option = change['new']  # Save the selected option to a variable\n",
    "    print(f\"Selected option: {selected_option}\")\n",
    "\n",
    "# Observe value change in the dropdown\n",
    "days_dropdown.observe(on_value_change, names='value')\n"
   ]
  },
  {
   "cell_type": "code",
   "execution_count": null,
   "id": "e08b226c-99de-4a36-b050-7d87de6b378d",
   "metadata": {},
   "outputs": [],
   "source": [
    "# To directly access the selected value, you can also just do:\n",
    "query = days_dropdown.value.lower()\n",
    "query"
   ]
  },
  {
   "cell_type": "code",
   "execution_count": null,
   "id": "99ce7a93-a02c-4cdb-8043-9799248f6000",
   "metadata": {},
   "outputs": [],
   "source": [
    "# Define the activities in the dropdown\n",
    "dropdown = widgets.SelectMultiple(\n",
    "    options=['sightseeing', 'dinning', 'adventure', 'relaxation', 'culture'],\n",
    "    value=['sightseeing'],  # Default value\n",
    "    description='Activities:',\n",
    ")\n",
    "\n",
    "# Display the dropdown widget\n",
    "display(dropdown)\n",
    "\n",
    "# Function to handle the value change and store the result in a variable\n",
    "def on_value_change(change):\n",
    "    selected_option = change['new']  # Save the selected option to a variable\n",
    "    print(f\"Selected option: {selected_option}\")\n",
    "\n",
    "# Observe value change in the dropdown\n",
    "dropdown.observe(on_value_change, names='value')\n"
   ]
  },
  {
   "cell_type": "code",
   "execution_count": null,
   "id": "5617f052-ca32-482f-b769-be9426ac52e0",
   "metadata": {},
   "outputs": [],
   "source": [
    "# To directly access the selected value, you can also just do:\n",
    "activities = dropdown.value\n",
    "activities"
   ]
  },
  {
   "cell_type": "code",
   "execution_count": null,
   "id": "7ebae5df-7426-4183-b8b0-735c162c8f25",
   "metadata": {},
   "outputs": [],
   "source": [
    "activity_list = activities_df[activities_df['activity'].isin(activities)]"
   ]
  },
  {
   "cell_type": "markdown",
   "id": "6b5eb068-a039-4587-8536-cd0a98a3dfdf",
   "metadata": {},
   "source": [
    "### Retrieval evaluation "
   ]
  },
  {
   "cell_type": "code",
   "execution_count": null,
   "id": "e9865b65-8e61-48d1-9145-b92e62fa9236",
   "metadata": {},
   "outputs": [],
   "source": [
    "# Open and read the JSON file\n",
    "with open(\"../data/travel_itirenary_with_ids.json\", \"r\") as f_out:\n",
    "    docs_fin = json.load(f_out)"
   ]
  },
  {
   "cell_type": "code",
   "execution_count": null,
   "id": "0ba89847-87cf-40a6-888d-959ec98602b0",
   "metadata": {},
   "outputs": [],
   "source": [
    "with open(\"../data/searches.bin\", \"rb\") as f_out:\n",
    "    searches = pickle.load(f_out)"
   ]
  },
  {
   "cell_type": "code",
   "execution_count": null,
   "id": "87271206-df91-4766-bc80-113ae9d3ff63",
   "metadata": {},
   "outputs": [],
   "source": [
    "doc_index = {d[\"id\"]: d for d in docs_fin}"
   ]
  },
  {
   "cell_type": "code",
   "execution_count": null,
   "id": "3472b932-0633-4a1e-844c-f1e2c74bc359",
   "metadata": {},
   "outputs": [],
   "source": [
    "ground_truth_list = []\n",
    "for key, value in parsed_searches.items():\n",
    "    itinerary = doc_index[key]['itinerary']\n",
    "    for question in value:\n",
    "        ground_truth_list.append((question, itinerary, key))"
   ]
  },
  {
   "cell_type": "code",
   "execution_count": null,
   "id": "51a84603-0cd7-42f5-9e83-76f7a00a8fd1",
   "metadata": {},
   "outputs": [],
   "source": [
    "df = pd.DataFrame(ground_truth_list, columns=[\"question\", \"itinerary\", \"id\"])\n",
    "df.to_csv(\"../data/ground_truth.csv\", index=False)\n",
    "df[\"index\"] = [i for i in range(7) for _ in range(10)]"
   ]
  },
  {
   "cell_type": "code",
   "execution_count": null,
   "id": "477bfda5-3385-4998-8384-a4aee5cc1469",
   "metadata": {},
   "outputs": [],
   "source": [
    "parsed_searches = {}\n",
    "\n",
    "for k,v in searches.items(): \n",
    "    parsed_searches[k] = itinerary_list = json.loads(v)\n"
   ]
  },
  {
   "cell_type": "code",
   "execution_count": null,
   "id": "536e269a-4e53-459e-860e-91d85fe1ab90",
   "metadata": {},
   "outputs": [],
   "source": [
    "df[\"index\"] = [i for i in range(7) for _ in range(10)]"
   ]
  },
  {
   "cell_type": "code",
   "execution_count": null,
   "id": "b4ab8a1a-1e73-4bd3-b956-dbfd2ad2bbd9",
   "metadata": {},
   "outputs": [],
   "source": [
    "stic_search, stic_vector, faiss_vector = [], [], []\n",
    "\n",
    "for question in df.question:\n",
    "    stic_search.append(elastic_search(question)[1])\n",
    "    stic_vector.append(elastic__vector_search(question)[1])\n",
    "    faiss_vector.append(fais__vector_search(question)[1])\n",
    "    \n",
    "df[\"stic_search\"] = stic_search\n",
    "df[\"stic_vector\"] = stic_vector\n",
    "df[\"faiss_vector\"] = faiss_vector"
   ]
  },
  {
   "cell_type": "markdown",
   "id": "cf7abaa5-3766-418f-9cfc-080e45458fa4",
   "metadata": {},
   "source": [
    "#### Hit rate for Keyword Search with Elastic"
   ]
  },
  {
   "cell_type": "code",
   "execution_count": null,
   "id": "b5cb7402-1e6c-45fd-b0bc-3910f3ae8251",
   "metadata": {},
   "outputs": [],
   "source": [
    "round(sum(df.itinerary == df.stic_search)/len(df), 2)"
   ]
  },
  {
   "cell_type": "markdown",
   "id": "229c62a4-2ff5-4d71-95dc-6722e9dbb45b",
   "metadata": {},
   "source": [
    "#### Hit rate for Keyword Search with Elastic"
   ]
  },
  {
   "cell_type": "code",
   "execution_count": null,
   "id": "0156e2c8-47ca-4928-92e0-046f0e09823d",
   "metadata": {},
   "outputs": [],
   "source": [
    "round(sum(df.itinerary == df.stic_vector)/len(df), 2)"
   ]
  },
  {
   "cell_type": "markdown",
   "id": "7309bb03-9e62-446f-bf29-8635bff5d959",
   "metadata": {},
   "source": [
    "#### Hit rate for Semantic Search with FAISS (L2 Distance)"
   ]
  },
  {
   "cell_type": "code",
   "execution_count": null,
   "id": "5a6200de-3754-4a78-8801-7180a55016ea",
   "metadata": {},
   "outputs": [],
   "source": [
    "round(sum(df.index == df.faiss_vector)/len(df), 2)"
   ]
  },
  {
   "cell_type": "markdown",
   "id": "25d6a6f6-ee5e-4b59-adfb-1a7e4c7f218d",
   "metadata": {},
   "source": [
    "## RAG Evaluation"
   ]
  },
  {
   "cell_type": "code",
   "execution_count": null,
   "id": "42a65071-65fc-4162-a8a9-5615e87f9c7e",
   "metadata": {},
   "outputs": [],
   "source": [
    "full_query = f\"Travel itinerary for {query} days\"\n",
    "plan = elastic_search(full_query)[0]"
   ]
  },
  {
   "cell_type": "code",
   "execution_count": null,
   "id": "8316db7d-faa8-4e86-bb92-8f187343bde5",
   "metadata": {},
   "outputs": [],
   "source": [
    "params = {\"days\":query, \"activities\":activities, \"month\":month, \"plan\":plan, \"activity_list\":activity_list}"
   ]
  },
  {
   "cell_type": "code",
   "execution_count": null,
   "id": "643b1723-13ff-401e-8766-52489b8f486f",
   "metadata": {},
   "outputs": [],
   "source": [
    "prompt = build_prompt(params)"
   ]
  },
  {
   "cell_type": "code",
   "execution_count": null,
   "id": "131d2d10-99ff-44a9-8bd4-e6f9db566ab2",
   "metadata": {},
   "outputs": [],
   "source": [
    "gpt_responce = gpt(prompt)"
   ]
  },
  {
   "cell_type": "markdown",
   "id": "a1bfdea6-ba2f-4343-9952-46bb9919b50d",
   "metadata": {},
   "source": [
    "### LLM as a Judge"
   ]
  },
  {
   "cell_type": "code",
   "execution_count": null,
   "id": "da9dbd46-d467-43be-b210-d6d0d8a7d6dc",
   "metadata": {},
   "outputs": [],
   "source": [
    "def build_evaluation_prompt(itinerary, params):\n",
    "    prompt = f\"\"\"\n",
    "    You are tasked with evaluating a travel itinerary for a short trip to Barcelona. The itinerary was generated based on the following criteria:\n",
    "\n",
    "    1. The trip duration is {params[\"days\"]} days.\n",
    "    2. The traveler prefers the following types of activities: {params[\"activities\"]}.\n",
    "    3. The trip will take place in the month of {params[\"month\"]}, so the itinerary should account for the typical weather and seasonal activities in that month.\n",
    "    4. The activities should be spread across the {params[\"days\"]} days to provide a balanced and enjoyable experience.\n",
    "\n",
    "    Here is the generated itinerary for evaluation:\n",
    "\n",
    "    {itinerary}\n",
    "\n",
    "    Please evaluate the itinerary based on the following aspects:\n",
    "    - Relevance of activities to the traveler’s preferences\n",
    "    - Appropriateness of activities for the weather/season\n",
    "    - Distribution and balance of activities across the trip duration\n",
    "    - Diversity of activities (if applicable)\n",
    "    - Completeness of the itinerary for the given days\n",
    "\n",
    "    Provide a single numerical score (between 1 and 10) that reflects the average score across these five aspects. Only return the average score.\n",
    "    \"\"\".strip()\n",
    "\n",
    "    return prompt"
   ]
  },
  {
   "cell_type": "code",
   "execution_count": null,
   "id": "35077a73-efe4-4205-a778-1c5539d0dd3a",
   "metadata": {},
   "outputs": [],
   "source": [
    "acts = ['sightseeing', 'dining', 'adventure', 'relaxation', 'culture']\n",
    "days = [\"one\", \"two\", \"three\", \"four\", \"five\", \"six\", \"seven\"]\n",
    "months = [\"February\", \"May\", \"August\", \"November\"]\n",
    "eval_score = []\n",
    "\n",
    "for day in tqdm(days):\n",
    "    for month in months:\n",
    "        for i in range(1, 6):\n",
    "            act_list = random.sample(acts, i)\n",
    "            \n",
    "            query = day\n",
    "            activities = act_list\n",
    "            activity_list = activities_df[activities_df['activity'].isin(activities)]\n",
    "            \n",
    "            params = {\n",
    "                \"days\": query, \n",
    "                \"activities\": activities, \n",
    "                \"month\": month, \n",
    "                \"plan\": plan, \n",
    "                \"activity_list\": activity_list\n",
    "            }\n",
    "            \n",
    "            full_query = f\"Travel itinerary for {query} days\"\n",
    "            plan = elastic_search(full_query)[0]\n",
    "            \n",
    "            prompt = build_prompt(params)\n",
    "            gpt_response = gpt(prompt)\n",
    "            \n",
    "            eval_prompt = build_evaluation_prompt(gpt_response, params)\n",
    "            score = gpt(eval_prompt)\n",
    "            \n",
    "            eval_score.append(score)\n"
   ]
  },
  {
   "cell_type": "code",
   "execution_count": null,
   "id": "ad3ce02f-4bea-40f3-8162-9068d5fe513e",
   "metadata": {},
   "outputs": [],
   "source": [
    "rag_score = np.average([float(i) for i in eval_score])\n",
    "print(f\"Using LLM as a judge, the performance of our RAG on {len(eval_score)} prompts is {round(rag_score, 2)} out of 10.\")"
   ]
  }
 ],
 "metadata": {
  "kernelspec": {
   "display_name": "Python 3 (ipykernel)",
   "language": "python",
   "name": "python3"
  },
  "language_info": {
   "codemirror_mode": {
    "name": "ipython",
    "version": 3
   },
   "file_extension": ".py",
   "mimetype": "text/x-python",
   "name": "python",
   "nbconvert_exporter": "python",
   "pygments_lexer": "ipython3",
   "version": "3.11.5"
  }
 },
 "nbformat": 4,
 "nbformat_minor": 5
}
