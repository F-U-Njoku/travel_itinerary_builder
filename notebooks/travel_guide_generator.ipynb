{
 "cells": [
  {
   "cell_type": "code",
   "execution_count": null,
   "id": "0d88f7c4-0ad5-4a54-8f9c-27d22374874a",
   "metadata": {},
   "outputs": [],
   "source": [
    "import faiss\n",
    "from transformers import GPT2Tokenizer, GPT2LMHeadModel\n",
    "\n",
    "# Initialize FAISS index\n",
    "index = faiss.IndexFlatL2(768)  # Assuming embeddings of size 768\n",
    "\n",
    "# Load travel data embeddings and add to the index\n",
    "embeddings = ...  # Load precomputed embeddings\n",
    "index.add(embeddings)\n",
    "\n",
    "# Load the LLM\n",
    "tokenizer = GPT2Tokenizer.from_pretrained('gpt2')\n",
    "model = GPT2LMHeadModel.from_pretrained('gpt2')\n",
    "\n",
    "# Function to retrieve and generate travel guide\n",
    "def generate_travel_guide(user_input):\n",
    "    # Convert user input to embedding\n",
    "    input_embedding = ...  # Convert input to embedding\n",
    "    \n",
    "    # Retrieve relevant travel data\n",
    "    _, indices = index.search(input_embedding, k=5)\n",
    "    retrieved_data = [travel_data[i] for i in indices[0]]\n",
    "    \n",
    "    # Generate travel guide\n",
    "    context = \" \".join(retrieved_data)\n",
    "    input_ids = tokenizer.encode(context, return_tensors='pt')\n",
    "    generated_text = model.generate(input_ids, max_length=500)\n",
    "    \n",
    "    return tokenizer.decode(generated_text[0], skip_special_tokens=True)\n",
    "\n",
    "# Example user input\n",
    "user_input = \"I want to visit Paris and explore historical sites.\"\n",
    "travel_guide = generate_travel_guide(user_input)\n",
    "print(travel_guide)\n"
   ]
  },
  {
   "cell_type": "code",
   "execution_count": null,
   "id": "3a63d00b-0fd1-41ac-a915-849981e09633",
   "metadata": {},
   "outputs": [],
   "source": []
  }
 ],
 "metadata": {
  "kernelspec": {
   "display_name": "Python 3 (ipykernel)",
   "language": "python",
   "name": "python3"
  },
  "language_info": {
   "codemirror_mode": {
    "name": "ipython",
    "version": 3
   },
   "file_extension": ".py",
   "mimetype": "text/x-python",
   "name": "python",
   "nbconvert_exporter": "python",
   "pygments_lexer": "ipython3",
   "version": "3.11.5"
  }
 },
 "nbformat": 4,
 "nbformat_minor": 5
}
