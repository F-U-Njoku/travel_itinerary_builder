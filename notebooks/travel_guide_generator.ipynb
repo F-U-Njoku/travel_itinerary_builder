{
 "cells": [
  {
   "cell_type": "code",
   "execution_count": 2,
   "id": "28aee7e3-4db3-4859-a0af-21c7fe0cddde",
   "metadata": {},
   "outputs": [],
   "source": [
    "import os\n",
    "os.environ[\"TOKENIZERS_PARALLELISM\"] = \"false\"\n",
    "\n",
    "import json\n",
    "import faiss\n",
    "import random\n",
    "import numpy as np\n",
    "import pandas as pd\n",
    "from openai import OpenAI\n",
    "from tqdm.auto import tqdm\n",
    "from IPython.display import display\n",
    "from elasticsearch import Elasticsearch\n",
    "from ipywidgets import interact, widgets\n",
    "from sentence_transformers import SentenceTransformer"
   ]
  },
  {
   "cell_type": "code",
   "execution_count": 13,
   "id": "dc6e5007-ad95-4cca-8237-9579a0a3686b",
   "metadata": {},
   "outputs": [
    {
     "name": "stderr",
     "output_type": "stream",
     "text": [
      "/home/unjoku/.local/share/virtualenvs/travel_itinerary_builder-_DJrXd1F/lib/python3.11/site-packages/transformers/tokenization_utils_base.py:1617: FutureWarning: `clean_up_tokenization_spaces` was not set. It will be set to `True` by default. This behavior will be deprecated in transformers v4.45, and will be then set to `False` by default. For more details check this issue: https://github.com/huggingface/transformers/issues/31884\n",
      "  warnings.warn(\n"
     ]
    }
   ],
   "source": [
    "# Load the sentence transformer model\n",
    "model = SentenceTransformer('all-mpnet-base-v2')"
   ]
  },
  {
   "cell_type": "markdown",
   "id": "a72c2e60-799a-4416-88bb-08f3a8fd55e0",
   "metadata": {},
   "source": [
    "## Load Data"
   ]
  },
  {
   "cell_type": "code",
   "execution_count": 4,
   "id": "6a8c5fb5-c749-4477-ab2d-11112b4c2e51",
   "metadata": {},
   "outputs": [],
   "source": [
    "activities_df = pd.read_csv(\"../data/activities.csv\")"
   ]
  },
  {
   "cell_type": "code",
   "execution_count": 5,
   "id": "6ce68252-da28-4f52-8fa1-a014ed3bad78",
   "metadata": {},
   "outputs": [],
   "source": [
    "file_path = \"../data/travel_iterenary.json\"\n",
    "\n",
    "with open(file_path, \"rt\") as f_in:\n",
    "    docs_raw = json.load(f_in)\n",
    "    \n",
    "def extract_text(data_entry):\n",
    "    docs_fin = {}\n",
    "    plan = \"\"\n",
    "    \n",
    "    for day in data_entry['Iterenary']:  # Fixed 'days' to 'day'\n",
    "        itinerary = \"Travel itinerary for \" + data_entry.get('duration', '') + \" days.\"\n",
    "        \n",
    "        plan += day['Plan']\n",
    "        plan += \"\\n\"\n",
    "        \n",
    "        docs_fin[\"itinerary\"] = itinerary\n",
    "        docs_fin[\"plan\"] = plan\n",
    "        \n",
    "    return docs_fin\n",
    "docs_fin = [extract_text(doc) for doc in docs_raw]"
   ]
  },
  {
   "cell_type": "markdown",
   "id": "3206996a-746e-45d4-a3eb-b2ca2206dc4d",
   "metadata": {},
   "source": [
    "## Ingest Data"
   ]
  },
  {
   "cell_type": "markdown",
   "id": "8ceab2cc-17af-475a-bae3-7f7aefbcf6df",
   "metadata": {},
   "source": [
    "### ElasticSearch"
   ]
  },
  {
   "cell_type": "code",
   "execution_count": 6,
   "id": "5ea193a6-2191-453e-a26d-82c42dac28fa",
   "metadata": {},
   "outputs": [
    {
     "name": "stdout",
     "output_type": "stream",
     "text": [
      "{\n",
      "  \"name\" : \"082f13835804\",\n",
      "  \"cluster_name\" : \"docker-cluster\",\n",
      "  \"cluster_uuid\" : \"4qyEGnycTq--Lo33EHJHNw\",\n",
      "  \"version\" : {\n",
      "    \"number\" : \"8.4.3\",\n",
      "    \"build_flavor\" : \"default\",\n",
      "    \"build_type\" : \"docker\",\n",
      "    \"build_hash\" : \"42f05b9372a9a4a470db3b52817899b99a76ee73\",\n",
      "    \"build_date\" : \"2022-10-04T07:17:24.662462378Z\",\n",
      "    \"build_snapshot\" : false,\n",
      "    \"lucene_version\" : \"9.3.0\",\n",
      "    \"minimum_wire_compatibility_version\" : \"7.17.0\",\n",
      "    \"minimum_index_compatibility_version\" : \"7.0.0\"\n",
      "  },\n",
      "  \"tagline\" : \"You Know, for Search\"\n",
      "}\n"
     ]
    }
   ],
   "source": [
    "#check that elastic search works\n",
    "!curl http://localhost:9200/"
   ]
  },
  {
   "cell_type": "code",
   "execution_count": 7,
   "id": "eb7fdd59-58b7-45d4-90d7-ec6fc82398a3",
   "metadata": {
    "scrolled": true
   },
   "outputs": [
    {
     "data": {
      "text/plain": [
       "ObjectApiResponse({'name': '082f13835804', 'cluster_name': 'docker-cluster', 'cluster_uuid': '4qyEGnycTq--Lo33EHJHNw', 'version': {'number': '8.4.3', 'build_flavor': 'default', 'build_type': 'docker', 'build_hash': '42f05b9372a9a4a470db3b52817899b99a76ee73', 'build_date': '2022-10-04T07:17:24.662462378Z', 'build_snapshot': False, 'lucene_version': '9.3.0', 'minimum_wire_compatibility_version': '7.17.0', 'minimum_index_compatibility_version': '7.0.0'}, 'tagline': 'You Know, for Search'})"
      ]
     },
     "execution_count": 7,
     "metadata": {},
     "output_type": "execute_result"
    }
   ],
   "source": [
    "from elasticsearch import Elasticsearch\n",
    "es_client = Elasticsearch(\"http://localhost:9200\")\n",
    "es_client.info()"
   ]
  },
  {
   "cell_type": "code",
   "execution_count": 8,
   "id": "6c8e6168-e3d7-48fd-b890-93370ef032e7",
   "metadata": {},
   "outputs": [
    {
     "data": {
      "text/plain": [
       "ObjectApiResponse({'acknowledged': True})"
      ]
     },
     "execution_count": 8,
     "metadata": {},
     "output_type": "execute_result"
    }
   ],
   "source": [
    "#define index mapping\n",
    "index_mapping = {\n",
    "    \"settings\": {\n",
    "        \"number_of_shards\": 1,\n",
    "        \"number_of_replicas\": 0\n",
    "    },\n",
    "    \"mappings\": {\n",
    "        \"properties\": {\n",
    "            \"itinerary\": {\"type\": \"text\"},  \n",
    "            \"plan\": {\"type\": \"text\"}        \n",
    "            }\n",
    "    }\n",
    "}\n",
    "\n",
    "index_name = \"tip-index\"\n",
    "\n",
    "# Check if the index already exists\n",
    "# Check if the index already exists\n",
    "es_client.indices.delete(index=index_name, ignore_unavailable=True)"
   ]
  },
  {
   "cell_type": "markdown",
   "id": "fbae4b34-0177-4038-bf34-cca14c4fadb8",
   "metadata": {},
   "source": [
    "#### The two curl commands below are to solve some memory issues"
   ]
  },
  {
   "cell_type": "code",
   "execution_count": 9,
   "id": "7cafaa4f-f724-4ad4-99ac-b90be5184760",
   "metadata": {},
   "outputs": [
    {
     "name": "stdout",
     "output_type": "stream",
     "text": [
      "{\"acknowledged\":true,\"persistent\":{},\"transient\":{\"cluster\":{\"routing\":{\"allocation\":{\"disk\":{\"threshold_enabled\":\"false\"}}}}}}"
     ]
    }
   ],
   "source": [
    "!curl -XPUT -H \"Content-Type: application/json\" http://localhost:9200/_cluster/settings -d '{ \"transient\": { \"cluster.routing.allocation.disk.threshold_enabled\": false } }'"
   ]
  },
  {
   "cell_type": "code",
   "execution_count": 67,
   "id": "997f2c05-1079-4b21-b368-4360b88609c1",
   "metadata": {},
   "outputs": [
    {
     "name": "stdout",
     "output_type": "stream",
     "text": [
      "{\"error\":{\"root_cause\":[{\"type\":\"index_not_found_exception\",\"reason\":\"no such index [null] and no indices exist\",\"resource.type\":\"index_expression\",\"resource.id\":\"_all\"}],\"type\":\"index_not_found_exception\",\"reason\":\"no such index [null] and no indices exist\",\"resource.type\":\"index_expression\",\"resource.id\":\"_all\"},\"status\":404}"
     ]
    }
   ],
   "source": [
    "!curl -XPUT -H \"Content-Type: application/json\" http://localhost:9200/_all/_settings -d '{\"index.blocks.read_only_allow_delete\": null}'"
   ]
  },
  {
   "cell_type": "code",
   "execution_count": 10,
   "id": "11ce294e-7ff3-403b-a8a4-8089acf8623d",
   "metadata": {},
   "outputs": [
    {
     "data": {
      "text/plain": [
       "ObjectApiResponse({'acknowledged': True, 'shards_acknowledged': True, 'index': 'tip-index'})"
      ]
     },
     "execution_count": 10,
     "metadata": {},
     "output_type": "execute_result"
    }
   ],
   "source": [
    "#create index\n",
    "es_client.indices.create(index=index_name, body=index_mapping)"
   ]
  },
  {
   "cell_type": "code",
   "execution_count": 11,
   "id": "2ad7d355-8626-48e4-a9f5-1acc3e0b9024",
   "metadata": {},
   "outputs": [
    {
     "data": {
      "application/vnd.jupyter.widget-view+json": {
       "model_id": "867e2a4e6e8a4e1d8230fa6e1b24888c",
       "version_major": 2,
       "version_minor": 0
      },
      "text/plain": [
       "  0%|          | 0/7 [00:00<?, ?it/s]"
      ]
     },
     "metadata": {},
     "output_type": "display_data"
    }
   ],
   "source": [
    "#index document\n",
    "for duration in tqdm(docs_fin):\n",
    "    es_client.index(index=index_name, document=duration)"
   ]
  },
  {
   "cell_type": "markdown",
   "id": "5fc78a76-3cf5-40e4-b1fc-e8859bf389c2",
   "metadata": {},
   "source": [
    "### ElasticSearch as VectorDB"
   ]
  },
  {
   "cell_type": "code",
   "execution_count": 14,
   "id": "7d1d6105-895d-4f43-a9c9-462702f5bc88",
   "metadata": {},
   "outputs": [],
   "source": [
    "doc_vec = []\n",
    "for doc in docs_fin:\n",
    "    doc[\"itin_vector\"] = model.encode(doc['itinerary']).tolist()\n",
    "    doc_vec.append(doc)"
   ]
  },
  {
   "cell_type": "code",
   "execution_count": 15,
   "id": "8a274870-ec42-4e2b-93a2-ecdf1c6085d0",
   "metadata": {},
   "outputs": [
    {
     "data": {
      "text/plain": [
       "ObjectApiResponse({'acknowledged': True, 'shards_acknowledged': True, 'index': 'vec-index'})"
      ]
     },
     "execution_count": 15,
     "metadata": {},
     "output_type": "execute_result"
    }
   ],
   "source": [
    "#define index mapping\n",
    "vec_index_mapping = {\n",
    "    \"settings\": {\n",
    "        \"number_of_shards\": 1,\n",
    "        \"number_of_replicas\": 0\n",
    "    },\n",
    "    \"mappings\": {\n",
    "        \"properties\": {\n",
    "            \"itinerary\": {\"type\":\"text\"},  \n",
    "            \"plan\": {\"type\":\"text\"},\n",
    "            \"itin_vector\": {\"type\":\"dense_vector\", \"dims\":768, \"index\":True, \"similarity\":\"cosine\"} \n",
    "            }\n",
    "    }\n",
    "}\n",
    "\n",
    "index_name = \"vec-index\"\n",
    "\n",
    "# Check if the index already exists\n",
    "es_client.indices.delete(index=index_name, ignore_unavailable=True)\n",
    "#create index\n",
    "es_client.indices.create(index=index_name, body=vec_index_mapping)"
   ]
  },
  {
   "cell_type": "code",
   "execution_count": 16,
   "id": "4acf8ead-e98b-4119-9d19-b8741cfaa76d",
   "metadata": {},
   "outputs": [
    {
     "data": {
      "application/vnd.jupyter.widget-view+json": {
       "model_id": "1e6bdd503557410ba6de09f8d66f4c78",
       "version_major": 2,
       "version_minor": 0
      },
      "text/plain": [
       "  0%|          | 0/7 [00:00<?, ?it/s]"
      ]
     },
     "metadata": {},
     "output_type": "display_data"
    }
   ],
   "source": [
    "for doc in tqdm(doc_vec):\n",
    "    es_client.index(index=index_name, document=doc)"
   ]
  },
  {
   "cell_type": "markdown",
   "id": "a6bcb480-6af2-4376-beee-f979d667d99b",
   "metadata": {},
   "source": [
    "### FAISS (Facebook AI Simlarity Search)"
   ]
  },
  {
   "cell_type": "code",
   "execution_count": 17,
   "id": "738b019e-961c-44ca-a3b0-67ac91ea6708",
   "metadata": {},
   "outputs": [
    {
     "name": "stdout",
     "output_type": "stream",
     "text": [
      "Indexed 7 items into FAISS.\n"
     ]
    }
   ],
   "source": [
    "# Function to extract relevant text from each dictionary entry\n",
    "def extract_text(data_entry):\n",
    "\n",
    "    result = data_entry.get('itinerary', '') + \"\\n\" + data_entry.get('plan', '')\n",
    "    return result.strip()\n",
    "\n",
    "# Extract all text data to be indexed\n",
    "text_data = [extract_text(entry) for entry in docs_fin]\n",
    "\n",
    "# Generate embeddings for each text using the model\n",
    "embeddings = model.encode(text_data)\n",
    "\n",
    "# Convert embeddings to a numpy array and ensure it's float32 (FAISS requires this format)\n",
    "embeddings = np.array(embeddings, dtype='float32')  # Ensure embeddings are float32\n",
    "\n",
    "# Initialize the FAISS index\n",
    "dimension = embeddings.shape[1]  # Dimension of the embedding vector\n",
    "index = faiss.IndexFlatL2(dimension)  # L2 distance metric (Euclidean)\n",
    "\n",
    "# Add the embeddings to the FAISS index\n",
    "index.add(embeddings)\n",
    "\n",
    "# Save the index for future use\n",
    "faiss.write_index(index, 'faiss_index_file.index')\n",
    "\n",
    "print(f\"Indexed {len(embeddings)} items into FAISS.\")\n"
   ]
  },
  {
   "cell_type": "markdown",
   "id": "39b6e6be-0922-41ed-b30c-df2652acf97c",
   "metadata": {},
   "source": [
    "### User input"
   ]
  },
  {
   "cell_type": "code",
   "execution_count": 19,
   "id": "5cf9c809-59b9-415c-84f6-fdf6c744714b",
   "metadata": {},
   "outputs": [
    {
     "data": {
      "application/vnd.jupyter.widget-view+json": {
       "model_id": "f2f1952bee8a4443a5dbd4b258606696",
       "version_major": 2,
       "version_minor": 0
      },
      "text/plain": [
       "Dropdown(description='Month:', options=('January', 'February', 'March', 'April', 'May', 'June', 'July', 'Augus…"
      ]
     },
     "metadata": {},
     "output_type": "display_data"
    }
   ],
   "source": [
    "# Define the month in the dropdown\n",
    "month_dropdown = widgets.Dropdown(\n",
    "    options=[\"January\", \"February\", \"March\", \"April\", \"May\", \"June\", \n",
    "             \"July\", \"August\", \"September\", \"October\", \"November\", \"December\"],\n",
    "    value='January',  # Default value\n",
    "    description='Month:',\n",
    ")\n",
    "\n",
    "# Display the dropdown widget\n",
    "display(month_dropdown)\n",
    "\n",
    "# Function to handle the value change and store the result in a variable\n",
    "def on_value_change(change):\n",
    "    selected_option = change['new']  # Save the selected option to a variable\n",
    "    print(f\"Selected option: {selected_option}\")\n",
    "\n",
    "# Observe value change in the dropdown\n",
    "month_dropdown.observe(on_value_change, names='value')\n"
   ]
  },
  {
   "cell_type": "code",
   "execution_count": 20,
   "id": "46163d8d-3383-4522-ac15-be94be854be0",
   "metadata": {},
   "outputs": [
    {
     "data": {
      "text/plain": [
       "'October'"
      ]
     },
     "execution_count": 20,
     "metadata": {},
     "output_type": "execute_result"
    }
   ],
   "source": [
    "# To directly access the selected value, you can also just do:\n",
    "month = month_dropdown.value\n",
    "month"
   ]
  },
  {
   "cell_type": "code",
   "execution_count": 21,
   "id": "c40a10ad-cd6c-49b6-aaa3-0474998c1902",
   "metadata": {},
   "outputs": [
    {
     "data": {
      "application/vnd.jupyter.widget-view+json": {
       "model_id": "80525cfb6d95465692508be06465ca09",
       "version_major": 2,
       "version_minor": 0
      },
      "text/plain": [
       "Dropdown(description='Duration:', options=('One', 'Two', 'Three', 'Four', 'Five', 'Six', 'Seven'), value='One'…"
      ]
     },
     "metadata": {},
     "output_type": "display_data"
    }
   ],
   "source": [
    "# Define the duration in the dropdown\n",
    "days_dropdown = widgets.Dropdown(\n",
    "    options=[\"One\", \"Two\", \"Three\", \"Four\", \"Five\", \"Six\", \"Seven\"],\n",
    "    value='One',  # Default value\n",
    "    description='Duration:',\n",
    ")\n",
    "\n",
    "# Display the dropdown widget\n",
    "display(days_dropdown)\n",
    "\n",
    "# Function to handle the value change and store the result in a variable\n",
    "def on_value_change(change):\n",
    "    selected_option = change['new']  # Save the selected option to a variable\n",
    "    print(f\"Selected option: {selected_option}\")\n",
    "\n",
    "# Observe value change in the dropdown\n",
    "days_dropdown.observe(on_value_change, names='value')\n"
   ]
  },
  {
   "cell_type": "code",
   "execution_count": 22,
   "id": "d306bf12-414a-43ea-91c1-7c2737667287",
   "metadata": {},
   "outputs": [
    {
     "data": {
      "text/plain": [
       "'three'"
      ]
     },
     "execution_count": 22,
     "metadata": {},
     "output_type": "execute_result"
    }
   ],
   "source": [
    "# To directly access the selected value, you can also just do:\n",
    "query = days_dropdown.value.lower()\n",
    "query"
   ]
  },
  {
   "cell_type": "code",
   "execution_count": 23,
   "id": "9d2773de-3b7b-4e0f-9baf-110421c19715",
   "metadata": {
    "scrolled": true
   },
   "outputs": [
    {
     "data": {
      "application/vnd.jupyter.widget-view+json": {
       "model_id": "f300334b073242aa8ccadea7b7928575",
       "version_major": 2,
       "version_minor": 0
      },
      "text/plain": [
       "SelectMultiple(description='Activities:', index=(0,), options=('sightseeing', 'dinning', 'adventure', 'relaxat…"
      ]
     },
     "metadata": {},
     "output_type": "display_data"
    }
   ],
   "source": [
    "# Define the activities in the dropdown\n",
    "dropdown = widgets.SelectMultiple(\n",
    "    options=['sightseeing', 'dinning', 'adventure', 'relaxation', 'culture'],\n",
    "    value=['sightseeing'],  # Default value\n",
    "    description='Activities:',\n",
    ")\n",
    "\n",
    "# Display the dropdown widget\n",
    "display(dropdown)\n",
    "\n",
    "# Function to handle the value change and store the result in a variable\n",
    "def on_value_change(change):\n",
    "    selected_option = change['new']  # Save the selected option to a variable\n",
    "    print(f\"Selected option: {selected_option}\")\n",
    "\n",
    "# Observe value change in the dropdown\n",
    "dropdown.observe(on_value_change, names='value')\n"
   ]
  },
  {
   "cell_type": "code",
   "execution_count": 24,
   "id": "f82bfc1f-2850-4f67-b018-6f0028964c94",
   "metadata": {},
   "outputs": [
    {
     "data": {
      "text/plain": [
       "('sightseeing', 'adventure')"
      ]
     },
     "execution_count": 24,
     "metadata": {},
     "output_type": "execute_result"
    }
   ],
   "source": [
    "# To directly access the selected value, you can also just do:\n",
    "activities = dropdown.value\n",
    "activities"
   ]
  },
  {
   "cell_type": "code",
   "execution_count": 25,
   "id": "50152112-fb31-441c-8b2f-6f1a243a95f4",
   "metadata": {},
   "outputs": [],
   "source": [
    "activity_list = activities_df[activities_df['activity'].isin(activities)]"
   ]
  },
  {
   "cell_type": "markdown",
   "id": "c39cb40e-4058-4764-955f-950e81bc38f8",
   "metadata": {},
   "source": [
    "## Retrieval"
   ]
  },
  {
   "cell_type": "markdown",
   "id": "d67159f8-d1a2-486a-bc4e-8f1376701dac",
   "metadata": {},
   "source": [
    "### Keyword Search with Elastic"
   ]
  },
  {
   "cell_type": "code",
   "execution_count": 193,
   "id": "ea50dd45-7dd6-41fb-a4c7-494a4ae76545",
   "metadata": {},
   "outputs": [],
   "source": [
    "def elastic_search(query):\n",
    "    query_body = {\n",
    "        \"size\": 1,\n",
    "        \"query\": {\n",
    "            \"match\": {\n",
    "                \"itinerary\": query\n",
    "            }\n",
    "        },\n",
    "        \"fields\": [\"plan\"]\n",
    "    }\n",
    "    response = es_client.search(index=\"tip-index\", body=query_body)\n",
    "    \n",
    "    response_docs = []\n",
    "    for hit in response[\"hits\"][\"hits\"]:\n",
    "        response_docs.append(hit[\"_source\"])\n",
    "        \n",
    "    plan = response_docs[0]['plan']\n",
    "\n",
    "    return plan.strip(), response_docs[0]['itinerary']"
   ]
  },
  {
   "cell_type": "markdown",
   "id": "818ed7c3-6a29-4e33-90d3-44396dc11f17",
   "metadata": {},
   "source": [
    "### Semantic Search with Elastic (Cosine Similarity)"
   ]
  },
  {
   "cell_type": "code",
   "execution_count": 190,
   "id": "0f8429e8-da87-420c-b8ec-65aaeddb91f4",
   "metadata": {},
   "outputs": [],
   "source": [
    "def elastic__vector_search(query):\n",
    "\n",
    "    vec_query = model.encode(query).tolist()\n",
    "    \n",
    "    query = {\n",
    "        \"knn\": {\n",
    "            \"field\": \"itin_vector\",\n",
    "            \"query_vector\": vec_query,\n",
    "            \"k\": 1,\n",
    "            \"num_candidates\": 1000\n",
    "            \n",
    "            },\n",
    "        \"fields\": [\"plan\"]\n",
    "        }\n",
    "    response = es_client.search(index=\"vec-index\", body=query)\n",
    "\n",
    "    response_docs = []\n",
    "    for hit in response[\"hits\"][\"hits\"]:\n",
    "        response_docs.append(hit[\"_source\"])\n",
    "        \n",
    "    plan = response_docs[0]['plan']\n",
    "\n",
    "    return plan.strip(), response_docs[0]['itinerary']"
   ]
  },
  {
   "cell_type": "markdown",
   "id": "13fe6d15-508e-4c7c-8054-e94635bd284e",
   "metadata": {},
   "source": [
    "### Semantic Search with FAISS (L2 Distance)"
   ]
  },
  {
   "cell_type": "code",
   "execution_count": 185,
   "id": "ef07059f-b01b-40d1-a2ba-f8dab6c07fd8",
   "metadata": {},
   "outputs": [],
   "source": [
    "def fais__vector_search(query):\n",
    "    \n",
    "    query_embedding = model.encode([query]).astype(np.float32)\n",
    "    \n",
    "    # Perform the search (k=5 means returning the 5 most similar entries)\n",
    "    D, I = index.search(query_embedding, k=1)\n",
    "\n",
    "    # D contains the distances, I contains the indices of the nearest neighbors\n",
    "    plan = text_data[I[0][0]]\n",
    "    return plan.strip(), I[0][0]\n",
    "    "
   ]
  },
  {
   "cell_type": "markdown",
   "id": "635f4bc2-ba69-4513-a619-27312a07834e",
   "metadata": {},
   "source": [
    "### Retrieval evaluation "
   ]
  },
  {
   "cell_type": "code",
   "execution_count": 53,
   "id": "3a6d52c0-dbbe-4d6a-a8fe-76c6e7ac7b3f",
   "metadata": {},
   "outputs": [],
   "source": [
    "## Generate unique id for each document\n",
    "import hashlib\n",
    "def generate_id(doc):\n",
    "    id_source = f\"{doc['itinerary']}-{doc['plan'][:10]}-{doc['itin_vector'][0]}\"\n",
    "    hash_object = hashlib.md5(id_source.encode())\n",
    "    hash_hex = hash_object.hexdigest()\n",
    "    doc_id = hash_hex[:8]\n",
    "    \n",
    "    return doc_id\n",
    "\n",
    "for doc in docs_fin:\n",
    "    doc[\"id\"] = generate_id(doc)"
   ]
  },
  {
   "cell_type": "code",
   "execution_count": 54,
   "id": "fb537be3-f74c-4b72-abcc-6c73f4e56802",
   "metadata": {},
   "outputs": [],
   "source": [
    "# Save file\n",
    "with open(\"../data/travel_itirenary_with_ids.json\", \"wt\") as f_out:\n",
    "    json.dump(docs_fin, f_out)"
   ]
  },
  {
   "cell_type": "code",
   "execution_count": 151,
   "id": "52c734fc-f402-4d28-ad45-bd2efc9980c6",
   "metadata": {},
   "outputs": [],
   "source": [
    "system_prompt = \"\"\"\n",
    "Act as a traveler planning a short trip to Barcelona. \n",
    "Based on the following search query, generate 10 similar traveler searches that have the 'SAME NUMBER OF DAYS' as the one provided. \n",
    "The searches should be varied but similar in nature.\n",
    "\n",
    "search: {itinerary}\n",
    "\n",
    "Provide the output as a list of strings.\n",
    "[\"search\",\"search2\",...,\"search10\"]\n",
    "\n",
    "Example:\n",
    "search: Travel itinerary for three days.\n",
    "output: [\"Three-day food tour itinerary in Barcelona\", \n",
    "\"Three-day adventure itinerary in Barcelona\",\n",
    "\"Travel itinerary for three days with kids in Barcelona\",\n",
    "\"Three-day art and architecture itinerary in Barcelona\"]\n",
    "\"\"\".strip()"
   ]
  },
  {
   "cell_type": "code",
   "execution_count": 152,
   "id": "27f2402e-c573-4d09-9da9-929d874f1105",
   "metadata": {},
   "outputs": [],
   "source": [
    "def generate_questions(prompt):\n",
    "    response = client.chat.completions.create(\n",
    "    model = \"gpt-4o-mini\",\n",
    "    messages = [{\"role\": 'system', 'content': system_prompt}, {'role': 'user', 'content': f\"search: {prompt}\"}]\n",
    "        )\n",
    "    return response.choices[0].message.content"
   ]
  },
  {
   "cell_type": "code",
   "execution_count": 153,
   "id": "2af8a615-09aa-4000-a0ba-eb93bd255c23",
   "metadata": {},
   "outputs": [],
   "source": [
    "searches = {}\n",
    "for doc in docs_fin:\n",
    "    doc_id = doc[\"id\"]\n",
    "    prompt = doc[\"itinerary\"]\n",
    "    questions = generate_questions(prompt)\n",
    "    searches[doc_id] = questions"
   ]
  },
  {
   "cell_type": "code",
   "execution_count": 145,
   "id": "ebf3e7b0-21d4-4e76-9a87-023321585d5f",
   "metadata": {},
   "outputs": [],
   "source": [
    "import pickle\n",
    "with open(\"../data/searches.bin\", \"wb\") as f_out:\n",
    "    pickle.dump(searches, f_out)"
   ]
  },
  {
   "cell_type": "code",
   "execution_count": 160,
   "id": "9fe3b6cd-644e-4536-9b41-9fa6f8a86250",
   "metadata": {},
   "outputs": [],
   "source": [
    "doc_index = {d[\"id\"]: d for d in docs_fin}"
   ]
  },
  {
   "cell_type": "code",
   "execution_count": 163,
   "id": "982c1461-760d-4330-ba2f-146d22cad9bd",
   "metadata": {},
   "outputs": [],
   "source": [
    "ground_truth_list = []\n",
    "for key, value in parsed_searches.items():\n",
    "    itinerary = doc_index[key]['itinerary']\n",
    "    for question in value:\n",
    "        ground_truth_list.append((question, itinerary, key))"
   ]
  },
  {
   "cell_type": "code",
   "execution_count": 168,
   "id": "9597c9c4-ebcf-43dd-9581-a4f01356607f",
   "metadata": {},
   "outputs": [],
   "source": [
    "df = pd.DataFrame(ground_truth_list, columns=[\"question\", \"itinerary\", \"id\"])\n",
    "df.to_csv(\"../data/ground_truth.csv\", index=False)\n",
    "df[\"index\"] = [i for i in range(7) for _ in range(10)]"
   ]
  },
  {
   "cell_type": "code",
   "execution_count": 167,
   "id": "41b6b03c-0d89-4683-b49f-0b7d59f2d6cb",
   "metadata": {},
   "outputs": [],
   "source": [
    "parsed_searches = {}\n",
    "\n",
    "for k,v in searches.items(): \n",
    "    parsed_searches[k] = itinerary_list = json.loads(v)\n"
   ]
  },
  {
   "cell_type": "code",
   "execution_count": 177,
   "id": "f8817fd1-d3dc-4c54-897a-4886e640d132",
   "metadata": {},
   "outputs": [],
   "source": [
    "df[\"index\"] = [i for i in range(7) for _ in range(10)]"
   ]
  },
  {
   "cell_type": "code",
   "execution_count": 197,
   "id": "c4c98c0d-20d8-4d0a-a7a5-421d09b76dcc",
   "metadata": {
    "scrolled": true
   },
   "outputs": [],
   "source": [
    "stic_search, stic_vector, faiss_vector = [], [], []\n",
    "\n",
    "for question in df.question:\n",
    "    stic_search.append(elastic_search(question)[1])\n",
    "    stic_vector.append(elastic__vector_search(question)[1])\n",
    "    faiss_vector.append(fais__vector_search(question)[1])\n",
    "    \n",
    "df[\"stic_search\"] = stic_search\n",
    "df[\"stic_vector\"] = stic_vector\n",
    "df[\"faiss_vector\"] = faiss_vector"
   ]
  },
  {
   "cell_type": "markdown",
   "id": "05ebccbc-8c05-4610-aeda-16d426755abd",
   "metadata": {},
   "source": [
    "#### Hit rate for Keyword Search with Elastic"
   ]
  },
  {
   "cell_type": "code",
   "execution_count": 222,
   "id": "2e343703-e2fc-4379-b894-69397f63fa7e",
   "metadata": {},
   "outputs": [
    {
     "data": {
      "text/plain": [
       "0.99"
      ]
     },
     "execution_count": 222,
     "metadata": {},
     "output_type": "execute_result"
    }
   ],
   "source": [
    "round(sum(df.itinerary == df.stic_search)/len(df), 2)"
   ]
  },
  {
   "cell_type": "markdown",
   "id": "9f798ee4-5061-44ff-aa9d-f19fbe72e54f",
   "metadata": {},
   "source": [
    "#### Hit rate for Keyword Search with Elastic"
   ]
  },
  {
   "cell_type": "code",
   "execution_count": 223,
   "id": "c700e614-03bb-43f4-9cf5-d5c30832f7c2",
   "metadata": {},
   "outputs": [
    {
     "data": {
      "text/plain": [
       "0.99"
      ]
     },
     "execution_count": 223,
     "metadata": {},
     "output_type": "execute_result"
    }
   ],
   "source": [
    "round(sum(df.itinerary == df.stic_vector)/len(df), 2)"
   ]
  },
  {
   "cell_type": "markdown",
   "id": "2d09a2e7-0ecb-4fb3-8675-a4971df4a4a2",
   "metadata": {},
   "source": [
    "#### Hit rate for Semantic Search with FAISS (L2 Distance)"
   ]
  },
  {
   "cell_type": "code",
   "execution_count": 225,
   "id": "c33ec65e-2ab8-4658-8514-7a3a3ed1891c",
   "metadata": {},
   "outputs": [
    {
     "data": {
      "text/plain": [
       "0.0"
      ]
     },
     "execution_count": 225,
     "metadata": {},
     "output_type": "execute_result"
    }
   ],
   "source": [
    "round(sum(df.index == df.faiss_vector)/len(df), 2)"
   ]
  },
  {
   "cell_type": "markdown",
   "id": "8489c623-0880-4a9e-97ad-98971fafa0d8",
   "metadata": {},
   "source": [
    "From the evaluation results, we will proceed with the **keyword search with Elastic** for retrieval."
   ]
  },
  {
   "cell_type": "markdown",
   "id": "acfb4e82-062f-432a-bd91-d8936bbeb437",
   "metadata": {},
   "source": [
    "## RAG"
   ]
  },
  {
   "cell_type": "code",
   "execution_count": 227,
   "id": "1c9d9495-f03f-49bf-ab47-105f821492e8",
   "metadata": {},
   "outputs": [],
   "source": [
    "full_query = f\"Travel itinerary for {query} days\"\n",
    "plan = elastic_search(full_query)[0]"
   ]
  },
  {
   "cell_type": "code",
   "execution_count": 229,
   "id": "3b4bb81b-16c5-4ac3-a044-cf3692e17920",
   "metadata": {},
   "outputs": [],
   "source": [
    "params = {\"days\":query, \"activities\":activities, \"month\":month, \"plan\":plan, \"activity_list\":activity_list}"
   ]
  },
  {
   "cell_type": "code",
   "execution_count": 233,
   "id": "edeea9b1-737e-41a9-a536-b01c0117a8a8",
   "metadata": {},
   "outputs": [],
   "source": [
    "def build_prompt(params):\n",
    "    prompt = f\"\"\"\n",
    "    You are a travel assistant specialized in creating personalized short-trip itineraries for Barcelona.\n",
    "    Your task is to plan a {params[\"days\"]}-day itinerary by referring to a list of sample travel plans, taking into account the traveler’s activity preferences and the time of year.\n",
    "    \n",
    "    - Prioritize activities from the ACTIVITY-CATALOGUE that align with the traveler’s interests.\n",
    "    - Adapt the itinerary to be suitable for the weather and season during the month of {params[\"month\"]}.\n",
    "    - Ensure that the chosen activities are spread across the duration of the trip to provide a balanced and enjoyable experience.\n",
    "    \n",
    "    Below are the details for your reference:\n",
    "    \n",
    "    DURATION: {params[\"days\"]} days\n",
    "    ACTIVITIES: {params[\"activities\"]}\n",
    "    MONTH: {params[\"month\"]}\n",
    "    \n",
    "    SAMPLE PLANS: \n",
    "    {params[\"plan\"]}\n",
    "    \n",
    "    ACTIVITY-CATALOGUE:\n",
    "    {params[\"activity_list\"]}\n",
    "    \n",
    "    Please create a thoughtful and well-structured itinerary considering these details.\n",
    "    \"\"\".strip()\n",
    "    \n",
    "    return prompt\n"
   ]
  },
  {
   "cell_type": "code",
   "execution_count": 231,
   "id": "061c9b17-6652-4339-8605-98a298de7e6f",
   "metadata": {},
   "outputs": [],
   "source": [
    "prompt = build_prompt(params)"
   ]
  },
  {
   "cell_type": "markdown",
   "id": "153fee13-1f2a-4358-ade8-0a2ed53c86d9",
   "metadata": {},
   "source": [
    "### OpenAI 40-mini"
   ]
  },
  {
   "cell_type": "code",
   "execution_count": 235,
   "id": "5a78bc57-b2bc-4226-af6c-ca9a9070286c",
   "metadata": {},
   "outputs": [],
   "source": [
    "def gpt(prompt):\n",
    "    response = client.chat.completions.create(\n",
    "        model = \"gpt-4o-mini\",\n",
    "        messages = [{\"role\":\"user\", \"content\": prompt}]\n",
    "    )\n",
    "    return response.choices[0].message.content"
   ]
  },
  {
   "cell_type": "code",
   "execution_count": 236,
   "id": "86cdd90d-a484-4926-829c-61d8cd585c7b",
   "metadata": {},
   "outputs": [],
   "source": [
    "gpt_responce = gpt(prompt)"
   ]
  },
  {
   "cell_type": "markdown",
   "id": "f5f18f1b-d6ae-48fc-a752-552fd628d38b",
   "metadata": {},
   "source": [
    "### LLM as a Judge"
   ]
  },
  {
   "cell_type": "code",
   "execution_count": 243,
   "id": "bd6d2f5e-3dbe-4ed5-b9f0-9e68719bee1f",
   "metadata": {},
   "outputs": [],
   "source": [
    "def build_evaluation_prompt(itinerary, params):\n",
    "    prompt = f\"\"\"\n",
    "    You are tasked with evaluating a travel itinerary for a short trip to Barcelona. The itinerary was generated based on the following criteria:\n",
    "\n",
    "    1. The trip duration is {params[\"days\"]} days.\n",
    "    2. The traveler prefers the following types of activities: {params[\"activities\"]}.\n",
    "    3. The trip will take place in the month of {params[\"month\"]}, so the itinerary should account for the typical weather and seasonal activities in that month.\n",
    "    4. The activities should be spread across the {params[\"days\"]} days to provide a balanced and enjoyable experience.\n",
    "\n",
    "    Here is the generated itinerary for evaluation:\n",
    "\n",
    "    {itinerary}\n",
    "\n",
    "    Please evaluate the itinerary based on the following aspects:\n",
    "    - Relevance of activities to the traveler’s preferences\n",
    "    - Appropriateness of activities for the weather/season\n",
    "    - Distribution and balance of activities across the trip duration\n",
    "    - Diversity of activities (if applicable)\n",
    "    - Completeness of the itinerary for the given days\n",
    "\n",
    "    Provide a single numerical score (between 1 and 10) that reflects the average score across these five aspects. Only return the average score.\n",
    "    \"\"\".strip()\n",
    "\n",
    "    return prompt"
   ]
  },
  {
   "cell_type": "code",
   "execution_count": 261,
   "id": "4120e2c4-434f-404c-b6ce-9536a5865640",
   "metadata": {},
   "outputs": [
    {
     "data": {
      "application/vnd.jupyter.widget-view+json": {
       "model_id": "b109659babaf489bb25b393955a5ba82",
       "version_major": 2,
       "version_minor": 0
      },
      "text/plain": [
       "  0%|          | 0/7 [00:00<?, ?it/s]"
      ]
     },
     "metadata": {},
     "output_type": "display_data"
    }
   ],
   "source": [
    "acts = ['sightseeing', 'dining', 'adventure', 'relaxation', 'culture']\n",
    "days = [\"one\", \"two\", \"three\", \"four\", \"five\", \"six\", \"seven\"]\n",
    "months = [\"February\", \"May\", \"August\", \"November\"]\n",
    "eval_score = []\n",
    "\n",
    "for day in tqdm(days):\n",
    "    for month in months:\n",
    "        for i in range(1, 6):\n",
    "            act_list = random.sample(acts, i)\n",
    "            \n",
    "            query = day\n",
    "            activities = act_list\n",
    "            activity_list = activities_df[activities_df['activity'].isin(activities)]\n",
    "            \n",
    "            params = {\n",
    "                \"days\": query, \n",
    "                \"activities\": activities, \n",
    "                \"month\": month, \n",
    "                \"plan\": plan, \n",
    "                \"activity_list\": activity_list\n",
    "            }\n",
    "            \n",
    "            full_query = f\"Travel itinerary for {query} days\"\n",
    "            plan = elastic_search(full_query)[0]\n",
    "            \n",
    "            prompt = build_prompt(params)\n",
    "            gpt_response = gpt(prompt)\n",
    "            \n",
    "            eval_prompt = build_evaluation_prompt(gpt_response, params)\n",
    "            score = gpt(eval_prompt)\n",
    "            \n",
    "            eval_score.append(score)\n"
   ]
  },
  {
   "cell_type": "code",
   "execution_count": 268,
   "id": "510c112a-f42e-43c3-9563-9806623aed27",
   "metadata": {},
   "outputs": [
    {
     "name": "stdout",
     "output_type": "stream",
     "text": [
      "Using LLM as a judge, the performance of our RAG on 140 prompts is 8.58 out of 10.\n"
     ]
    }
   ],
   "source": [
    "rag_score = np.average([float(i) for i in eval_score])\n",
    "print(f\"Using LLM as a judge, the performance of our RAG on {len(eval_score)} prompts is {round(rag_score, 2)} out of 10.\")"
   ]
  },
  {
   "cell_type": "code",
   "execution_count": 283,
   "id": "3f21d07e-0448-4cca-b7b5-0eb9d26dda6e",
   "metadata": {},
   "outputs": [],
   "source": [
    "check = os.getenv(\"$OPENAI_API_KEY\")"
   ]
  },
  {
   "cell_type": "code",
   "execution_count": 286,
   "id": "d5e7b881-47d9-4726-a703-ed7baaf80c4c",
   "metadata": {},
   "outputs": [],
   "source": [
    "check"
   ]
  },
  {
   "cell_type": "code",
   "execution_count": null,
   "id": "153fe72a-78f8-4a09-950a-f82f704a8012",
   "metadata": {},
   "outputs": [],
   "source": []
  }
 ],
 "metadata": {
  "kernelspec": {
   "display_name": "Python 3 (ipykernel)",
   "language": "python",
   "name": "python3"
  },
  "language_info": {
   "codemirror_mode": {
    "name": "ipython",
    "version": 3
   },
   "file_extension": ".py",
   "mimetype": "text/x-python",
   "name": "python",
   "nbconvert_exporter": "python",
   "pygments_lexer": "ipython3",
   "version": "3.11.5"
  }
 },
 "nbformat": 4,
 "nbformat_minor": 5
}
